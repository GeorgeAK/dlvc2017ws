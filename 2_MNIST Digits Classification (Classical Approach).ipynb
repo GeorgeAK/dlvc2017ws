{
 "cells": [
  {
   "cell_type": "markdown",
   "metadata": {},
   "source": [
    "# DLVC 2017\n",
    "# Tutorial 2: MNIST Digits Classification (Classical Approach)"
   ]
  },
  {
   "cell_type": "markdown",
   "metadata": {},
   "source": [
    "### MNIST database (http://yann.lecun.com/exdb/mnist/)\n",
    "\n",
    "Consists of four files: <br>\n",
    "* train-images-idx3-ubyte.gz:  training set images (9912422 bytes) <br>\n",
    "* train-labels-idx1-ubyte.gz:  training set labels (28881 bytes) <br>\n",
    "* t10k-images-idx3-ubyte.gz:   test set images (1648877 bytes) <br>\n",
    "* t10k-labels-idx1-ubyte.gz:   test set labels (4542 bytes)  <br>\n"
   ]
  },
  {
   "cell_type": "code",
   "execution_count": null,
   "metadata": {},
   "outputs": [],
   "source": [
    "%matplotlib inline\n",
    "from pylab import *\n",
    "import pickle\n",
    "from skimage import feature\n",
    "import struct\n",
    "from sklearn import preprocessing\n",
    "import os\n",
    "\n",
    "if not os.path.exists('tut02-results'):\n",
    "    os.makedirs('tut02-results')"
   ]
  },
  {
   "cell_type": "code",
   "execution_count": null,
   "metadata": {},
   "outputs": [],
   "source": [
    "# Loading dataset\n",
    "# Training data\n",
    "with open('data/tut02/mnist/train-labels.idx1-ubyte', 'rb') as flbl:\n",
    "        magic, num = struct.unpack(\">II\", flbl.read(8))\n",
    "        train_label = np.fromfile(flbl, dtype=np.int8)\n",
    "\n",
    "with open('data/tut02/mnist/train-images.idx3-ubyte', 'rb') as fimg:\n",
    "        magic, num, rows, cols = struct.unpack(\">IIII\", fimg.read(16))\n",
    "        train_data = np.fromfile(fimg, dtype=np.uint8).reshape(len(train_label), rows, cols)\n",
    "        \n",
    "# Testing data\n",
    "with open('data/tut02/mnist/t10k-labels.idx1-ubyte', 'rb') as flbl:\n",
    "        magic, num = struct.unpack(\">II\", flbl.read(8))\n",
    "        test_label = np.fromfile(flbl, dtype=np.int8)\n",
    "\n",
    "with open('data/tut02/mnist/t10k-images.idx3-ubyte', 'rb') as fimg:\n",
    "        magic, num, rows, cols = struct.unpack(\">IIII\", fimg.read(16))\n",
    "        test_data = np.fromfile(fimg, dtype=np.uint8).reshape(len(test_label), rows, cols)\n",
    "        \n",
    "print('Train data size: '+str(train_data.shape))\n",
    "print('Train label size: '+str(train_label.shape))\n",
    "print('Test data size: '+str(test_data.shape))\n",
    "print('Train label size: '+str(test_label.shape))\n",
    "\n",
    "# Sample data\n",
    "imshow(train_data[0],'gray')\n",
    "print('Label: '+str(train_label[0]))"
   ]
  },
  {
   "cell_type": "code",
   "execution_count": null,
   "metadata": {},
   "outputs": [],
   "source": [
    "# Feature extraction and data preparation\n",
    "# Training features\n",
    "train_greycoHomFeat = [feature.greycoprops(feature.greycomatrix(x, [1], [np.pi/4],normed=True),prop='homogeneity') for x in list(train_data)]\n",
    "train_greycoConFeat = [feature.greycoprops(feature.greycomatrix(x, [1], [np.pi/4],normed=True),prop='contrast') for x in list(train_data)]\n",
    "train_greycoEnFeat = [feature.greycoprops(feature.greycomatrix(x, [1], [np.pi/4],normed=True),prop='energy') for x in list(train_data)]\n",
    "train_greycoCorrFeat = [feature.greycoprops(feature.greycomatrix(x, [1], [np.pi/4],normed=True),prop='correlation') for x in list(train_data)]\n",
    "train_hogFeat = [feature.hog(x, orientations=4, pixels_per_cell=(5,5)) for x in list(train_data)]\n",
    "train_lbpFeat = [feature.local_binary_pattern(x, 5, 3) for x in list(train_data)]\n",
    "\n",
    "# Testing features\n",
    "test_greycoHomFeat = [feature.greycoprops(feature.greycomatrix(x, [1], [np.pi/4],normed=True),prop='homogeneity') for x in list(test_data)]\n",
    "test_greycoConFeat = [feature.greycoprops(feature.greycomatrix(x, [1], [np.pi/4],normed=True),prop='contrast') for x in list(test_data)]\n",
    "test_greycoEnFeat = [feature.greycoprops(feature.greycomatrix(x, [1], [np.pi/4],normed=True),prop='energy') for x in list(test_data)]\n",
    "test_greycoCorrFeat = [feature.greycoprops(feature.greycomatrix(x, [1], [np.pi/4],normed=True),prop='correlation') for x in list(test_data)]\n",
    "test_hogFeat = [feature.hog(x, orientations=4, pixels_per_cell=(5,5)) for x in list(test_data)]\n",
    "test_lbpFeat = [feature.local_binary_pattern(x, 5, 3) for x in list(test_data)]\n",
    "\n"
   ]
  },
  {
   "cell_type": "code",
   "execution_count": null,
   "metadata": {},
   "outputs": [],
   "source": [
    "# Data\n",
    "trainFeat = np.zeros((60000,1896))\n",
    "for num in range(60000):    \n",
    "    trainFeat[num][:] = np.concatenate((train_greycoHomFeat[num].reshape(1,),train_greycoConFeat[num].reshape(1,),\n",
    "                            train_greycoEnFeat[num].reshape(1,),train_greycoCorrFeat[num].reshape(1,),\n",
    "                                        train_hogFeat[num],train_lbpFeat[num].reshape(28*28),train_data[num].reshape(28*28)),axis=0)\n",
    "\n",
    "testFeat = np.zeros((10000,1896))\n",
    "for num in range(10000):    \n",
    "    trainFeat[num][:] = np.concatenate((test_greycoHomFeat[num].reshape(1,),test_greycoConFeat[num].reshape(1,),\n",
    "                            test_greycoEnFeat[num].reshape(1,),test_greycoCorrFeat[num].reshape(1,),\n",
    "                                        test_hogFeat[num],test_lbpFeat[num].reshape(28*28),test_data[num].reshape(28*28)),axis=0)\n",
    "trainFeat_scaled = preprocessing.scale(trainFeat)\n",
    "testFeat_scaled = preprocessing.scale(testFeat)"
   ]
  },
  {
   "cell_type": "code",
   "execution_count": null,
   "metadata": {},
   "outputs": [],
   "source": [
    "# with open('tut02-results/trainFeat_scaled.pkl','wb') as f:\n",
    "#     pickle.dump(trainFeat_scaled,f)\n",
    "# with open('tut02-results/testFeat_scaled.pkl','wb') as f:\n",
    "#     pickle.dump(testFeat_scaled,f)"
   ]
  },
  {
   "cell_type": "code",
   "execution_count": null,
   "metadata": {
    "scrolled": true
   },
   "outputs": [],
   "source": [
    "from sklearn.neural_network import MLPClassifier\n",
    "#scikitlearn documentation for MLP classifier: goo.gl/F1Q1Fa\n",
    "\n",
    "nn = MLPClassifier(hidden_layer_sizes=(100,), max_iter=10, alpha=1e-4,\n",
    "                    solver='sgd', verbose=True, tol=1e-4, random_state=1,\n",
    "                    learning_rate_init=1e-2)\n",
    "nn.fit(trainFeat_scaled, train_label)       \n",
    "prediction = nn.predict(testFeat_scaled)"
   ]
  },
  {
   "cell_type": "code",
   "execution_count": null,
   "metadata": {},
   "outputs": [],
   "source": [
    "print(\"Training set score: %f\" % nn.score(trainFeat_scaled, train_label)) # mean accuracy\n",
    "print(\"Test set score: %f\" % nn.score(testFeat_scaled, test_label))"
   ]
  },
  {
   "cell_type": "code",
   "execution_count": null,
   "metadata": {},
   "outputs": [],
   "source": []
  }
 ],
 "metadata": {
  "kernelspec": {
   "display_name": "Python 2",
   "language": "python",
   "name": "python2"
  },
  "language_info": {
   "codemirror_mode": {
    "name": "ipython",
    "version": 2
   },
   "file_extension": ".py",
   "mimetype": "text/x-python",
   "name": "python",
   "nbconvert_exporter": "python",
   "pygments_lexer": "ipython2",
   "version": "2.7.11"
  }
 },
 "nbformat": 4,
 "nbformat_minor": 1
}

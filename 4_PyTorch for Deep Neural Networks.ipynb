{
 "cells": [
  {
   "cell_type": "markdown",
   "metadata": {},
   "source": [
    "# DLVC 2017\n",
    "# Tutorial 4 : PyTorch for Deep Neural Networks\n",
    "\n",
    "## Follow instructions given in the PyTorch [website](http://pytorch.org/) for installation"
   ]
  },
  {
   "cell_type": "code",
   "execution_count": 1,
   "metadata": {
    "collapsed": true
   },
   "outputs": [],
   "source": [
    "# Importing the library\n",
    "import torch"
   ]
  },
  {
   "cell_type": "code",
   "execution_count": 4,
   "metadata": {},
   "outputs": [
    {
     "name": "stdout",
     "output_type": "stream",
     "text": [
      "\n",
      "-1.9210e-34  4.5849e-41\n",
      "-9.5143e+32  3.0630e-41\n",
      "[torch.FloatTensor of size 2x2]\n",
      " \n",
      " 0.8220  0.4606\n",
      " 0.2407  0.3798\n",
      "[torch.FloatTensor of size 2x2]\n",
      "\n"
     ]
    }
   ],
   "source": [
    "# Defining tensors\n",
    "x = torch.Tensor(2,2) # Uninitialized\n",
    "y = torch.rand(2,2) # Random initialization\n",
    "print x,y"
   ]
  },
  {
   "cell_type": "code",
   "execution_count": 5,
   "metadata": {},
   "outputs": [
    {
     "name": "stdout",
     "output_type": "stream",
     "text": [
      "torch.Size([2, 2])\n"
     ]
    }
   ],
   "source": [
    "# Obtaining size of tensors\n",
    "print x.size()"
   ]
  },
  {
   "cell_type": "code",
   "execution_count": 8,
   "metadata": {},
   "outputs": [
    {
     "name": "stdout",
     "output_type": "stream",
     "text": [
      "\n",
      " 0.8220  0.4606\n",
      " 0.2407  0.3798\n",
      "[torch.FloatTensor of size 2x2]\n",
      " \n",
      " 0.5388  0.7592\n",
      " 0.4166  0.1790\n",
      "[torch.FloatTensor of size 2x2]\n",
      " \n",
      " 1.3608  1.2198\n",
      " 0.6573  0.5589\n",
      "[torch.FloatTensor of size 2x2]\n",
      "\n",
      "\n",
      " 0.5388  0.7592\n",
      " 0.4166  0.1790\n",
      "[torch.FloatTensor of size 2x2]\n",
      " \n",
      " 1.0776  1.5183\n",
      " 0.8333  0.3581\n",
      "[torch.FloatTensor of size 2x2]\n",
      "\n"
     ]
    }
   ],
   "source": [
    "# Arithmetic operations\n",
    "z = torch.rand(2,2)\n",
    "print y,z,y+z\n",
    "print z,2*z"
   ]
  },
  {
   "cell_type": "code",
   "execution_count": 13,
   "metadata": {},
   "outputs": [
    {
     "name": "stdout",
     "output_type": "stream",
     "text": [
      "\n",
      " 0.8220  0.4606\n",
      " 0.2407  0.3798\n",
      "[torch.FloatTensor of size 2x2]\n",
      "\n",
      "0.379803955555\n",
      "\n",
      " 0.8220\n",
      " 0.2407\n",
      "[torch.FloatTensor of size 2]\n",
      "\n"
     ]
    }
   ],
   "source": [
    "# Indexing is similar to numpy indexing\n",
    "print y\n",
    "print y[1,1]\n",
    "print y[:,0]"
   ]
  },
  {
   "cell_type": "code",
   "execution_count": 15,
   "metadata": {},
   "outputs": [
    {
     "name": "stdout",
     "output_type": "stream",
     "text": [
      "\n",
      " 0.8220  0.4606\n",
      " 0.2407  0.3798\n",
      "[torch.FloatTensor of size 2x2]\n",
      "\n",
      "[[ 0.82203346  0.46061522]\n",
      " [ 0.24066198  0.37980396]]\n"
     ]
    }
   ],
   "source": [
    "# Converting to numpy\n",
    "y_np = y.numpy()\n",
    "print y\n",
    "print y_np"
   ]
  },
  {
   "cell_type": "code",
   "execution_count": null,
   "metadata": {
    "collapsed": true
   },
   "outputs": [],
   "source": []
  }
 ],
 "metadata": {
  "kernelspec": {
   "display_name": "Python 2",
   "language": "python",
   "name": "python2"
  },
  "language_info": {
   "codemirror_mode": {
    "name": "ipython",
    "version": 2
   },
   "file_extension": ".py",
   "mimetype": "text/x-python",
   "name": "python",
   "nbconvert_exporter": "python",
   "pygments_lexer": "ipython2",
   "version": "2.7.14"
  }
 },
 "nbformat": 4,
 "nbformat_minor": 2
}
